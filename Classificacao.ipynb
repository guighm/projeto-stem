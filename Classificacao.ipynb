{
 "cells": [
  {
   "metadata": {},
   "cell_type": "markdown",
   "source": "# CLASSIFICAÇÃO",
   "id": "b59272b7db9fce36"
  },
  {
   "metadata": {},
   "cell_type": "markdown",
   "source": "## DEVEMOS CONSTRUIR A NOSSA BASE",
   "id": "9a00385a175ecbcd"
  },
  {
   "metadata": {},
   "cell_type": "markdown",
   "source": "## 1 - MÉTRICAS",
   "id": "5737f6d54348f1b7"
  },
  {
   "cell_type": "code",
   "id": "initial_id",
   "metadata": {
    "collapsed": true,
    "ExecuteTime": {
     "end_time": "2024-06-24T07:02:04.006370Z",
     "start_time": "2024-06-24T07:02:03.985194Z"
    }
   },
   "source": [
    "from sklearn.metrics import *\n",
    "import matplotlib.pyplot as plt\n",
    "import seaborn as sns\n",
    "import numpy as np\n",
    "\n",
    "def acuracia(y_test, y_pred):\n",
    "    accuracy = accuracy_score(y_test, y_pred)\n",
    "    print(f\"Acurácia: {accuracy}\")\n",
    "    \n",
    "def erro(y_test, y_pred):\n",
    "    error = 1 - accuracy_score(y_test, y_pred)\n",
    "    print(f\"Erro: {error}\")\n",
    "    \n",
    "def recall(y_test, y_pred):\n",
    "    sensibilidade = recall_score(y_test, y_pred)\n",
    "    print(f\"Recall: {sensibilidade}\")\n",
    "    return sensibilidade\n",
    "    \n",
    "def especificidade(y_test, y_pred):\n",
    "    tn, fp, fn, tp = confusion_matrix(y_test, y_pred).ravel()\n",
    "    specificity = tn / (tn + fp)\n",
    "    print(f\"Specificity: {specificity}\")\n",
    "    \n",
    "def precisao(y_test, y_pred):\n",
    "    precision = precision_score(y_test, y_pred)\n",
    "    print(f\"Precisao: {precision}\")\n",
    "    return precision\n",
    "    \n",
    "def f1_score(y_test, y_pred):\n",
    "    numerador = 2 * precisao(y_test, y_pred) * recall(y_test, y_pred)\n",
    "    denominador = precisao(y_test, y_pred) + recall(y_test, y_pred)\n",
    "    f1 = numerador / denominador\n",
    "    print(f\"F1 Score: {f1}\")\n",
    "    \n",
    "def auc(y_test, y_pred_prob):\n",
    "    area = roc_auc_score(y_test, y_pred_prob)\n",
    "    print(f\"AUC: {area}\")\n",
    "    \n",
    "def auc_roc(y_test, y_pred_prob):\n",
    "    area = roc_auc_score(y_test, y_pred_prob)\n",
    "    fpr, tpr, thresholds = roc_curve(y_test, y_pred_prob)\n",
    "    plt.figure()\n",
    "    plt.plot(fpr, tpr, label='ROC curve (area = %0.2f)' % area)\n",
    "    plt.plot([0, 1], [0, 1], 'k--')\n",
    "    plt.xlim([0.0, 1.0])\n",
    "    plt.ylim([0.0, 1.05])\n",
    "    plt.xlabel('False Positive Rate')\n",
    "    plt.ylabel('True Positive Rate')\n",
    "    plt.title('Receiver operating characteristic')\n",
    "    plt.legend(loc=\"lower right\")\n",
    "    plt.show()\n",
    "    \n",
    "def matriz(y, y_test, y_pred):\n",
    "    matrix = confusion_matrix(y_test, y_pred)\n",
    "    plt.figure(figsize=(10,7))\n",
    "    sns.heatmap(matrix, annot=True, fmt=\"d\", cmap=\"Blues\", cbar=False, xticklabels=np.unique(y), yticklabels=np.unique(y))\n",
    "    plt.xlabel('Predicted')\n",
    "    plt.ylabel('True')\n",
    "    plt.title('Confusion matrix')\n",
    "    plt.show()\n",
    "\n",
    "def mar(y_test, y_pred):\n",
    "    tn, fp, fn, tp = confusion_matrix(y_test, y_pred).ravel()\n",
    "    miss_alarm_rate = fn / (fn + tp)\n",
    "    print(f\"Miss Alarm Rate: {miss_alarm_rate}\")\n",
    "\n",
    "def far(y_test, y_pred):\n",
    "    tn, fp, fn, tp = confusion_matrix(y_test, y_pred).ravel()\n",
    "    false_alarm_rate = fp / (fp + tn)\n",
    "    print(f\"Miss Alarm Rate: {false_alarm_rate}\")\n",
    "    \n",
    "def ks(y_test, y_pred_prob):\n",
    "    fpr, tpr, thresholds = roc_curve(y_test, y_pred_prob)\n",
    "    ks_statics = max(tpr - fpr)\n",
    "    print(f\"KS: {ks_statics}\")\n",
    "    \n",
    "def metricas(clf, y, y_test, y_pred):\n",
    "    y_pred_prob = clf.predict_proba(y)[:, 1]\n",
    "    acuracia(y_test, y_pred)\n",
    "    erro(y_test, y_pred)\n",
    "    recall(y_test, y_pred)\n",
    "    especificidade(y_test, y_pred)\n",
    "    precisao(y_test, y_pred)\n",
    "    f1_score(y_test, y_pred)\n",
    "    auc(y_test, y_pred_prob)\n",
    "    auc_roc(y_test, y_pred_prob)\n",
    "    matriz(y, y_test, y_pred)\n",
    "    mar(y_test, y_pred)\n",
    "    far(y_test, y_pred)\n",
    "    ks(y_test, y_pred_prob)"
   ],
   "outputs": [],
   "execution_count": 46
  },
  {
   "metadata": {},
   "cell_type": "markdown",
   "source": "## 2 - TRATAR OS DADOS",
   "id": "95dd0d9ff07e5223"
  },
  {
   "metadata": {
    "ExecuteTime": {
     "end_time": "2024-06-24T07:02:04.201765Z",
     "start_time": "2024-06-24T07:02:04.023414Z"
    }
   },
   "cell_type": "code",
   "source": [
    "import pandas as pd\n",
    "\n",
    "df = pd.read_csv(\"./dataset/cs-training.csv\", index_col=False)\n",
    "\n",
    "df.fillna(0, inplace=True)"
   ],
   "id": "9fcad0b3612bf411",
   "outputs": [],
   "execution_count": 47
  },
  {
   "metadata": {},
   "cell_type": "markdown",
   "source": "## KNN",
   "id": "a73a446db9bfb7f8"
  },
  {
   "metadata": {
    "ExecuteTime": {
     "end_time": "2024-06-24T07:03:23.216629Z",
     "start_time": "2024-06-24T07:03:16.774492Z"
    }
   },
   "cell_type": "code",
   "source": [
    "from sklearn.model_selection import train_test_split\n",
    "from sklearn.neighbors import KNeighborsClassifier\n",
    "\n",
    "colunas = ['RevolvingUtilizationOfUnsecuredLines', 'age',\n",
    "       'NumberOfTime30-59DaysPastDueNotWorse', 'DebtRatio', 'MonthlyIncome',\n",
    "       'NumberOfOpenCreditLinesAndLoans', 'NumberOfTimes90DaysLate',\n",
    "       'NumberRealEstateLoansOrLines', 'NumberOfTime60-89DaysPastDueNotWorse',\n",
    "       'NumberOfDependents']\n",
    "\n",
    "x = df[colunas]\n",
    "y = df[\"SeriousDlqin2yrs\"]\n",
    "\n",
    "x_treino, x_teste, y_treino, y_teste = train_test_split(x, y, test_size=0.3)\n",
    "\n",
    "knn = KNeighborsClassifier()\n",
    "\n",
    "knn.fit(x_treino, y_treino)\n",
    "\n",
    "previsto = knn.predict(x_teste)\n",
    "previsto_prob = knn.predict_proba(x_teste)[:, 1]\n",
    "\n",
    "acuracia(y_teste, previsto)\n",
    "erro(y_teste, previsto)\n",
    "recall(y_teste, previsto)  \n",
    "f1_score(y_teste, previsto)\n",
    "precisao(y_teste, previsto)\n",
    "print(classification_report(y_teste, previsto))\n",
    "auc(y_teste, previsto_prob)\n",
    "auc_roc(y_teste, previsto_prob)"
   ],
   "id": "78a1931dda86dbf1",
   "outputs": [
    {
     "name": "stdout",
     "output_type": "stream",
     "text": [
      "Acurácia: 0.9314\n",
      "Erro: 0.0686\n",
      "Recall: 0.023715415019762844\n",
      "Precisao: 0.36923076923076925\n",
      "Recall: 0.023715415019762844\n",
      "Precisao: 0.36923076923076925\n",
      "Recall: 0.023715415019762844\n",
      "F1 Score: 0.04456824512534818\n",
      "Precisao: 0.36923076923076925\n",
      "              precision    recall  f1-score   support\n",
      "\n",
      "           0       0.93      1.00      0.96     41964\n",
      "           1       0.37      0.02      0.04      3036\n",
      "\n",
      "    accuracy                           0.93     45000\n",
      "   macro avg       0.65      0.51      0.50     45000\n",
      "weighted avg       0.90      0.93      0.90     45000\n",
      "\n",
      "AUC: 0.5678142435658194\n"
     ]
    },
    {
     "data": {
      "text/plain": [
       "<Figure size 640x480 with 1 Axes>"
      ],
      "image/png": "[encoded data removed]"
     },
     "metadata": {},
     "output_type": "display_data"
    }
   ],
   "execution_count": 49
  },
  {
   "metadata": {},
   "cell_type": "markdown",
   "source": "## REDES NEURAIS",
   "id": "958f718ee8a9a71"
  },
  {
   "metadata": {},
   "cell_type": "markdown",
   "source": "# SVM",
   "id": "a1c4754656a86a81"
  },
  {
   "metadata": {},
   "cell_type": "markdown",
   "source": "# DECISION TREE",
   "id": "b47a866b31710b57"
  },
  {
   "metadata": {},
   "cell_type": "markdown",
   "source": "## RANDOM FLOREST",
   "id": "5c48c69c46a979ff"
  },
  {
   "metadata": {},
   "cell_type": "markdown",
   "source": "## GRADIENT BOOSTING",
   "id": "7da6affa2cf44ee4"
  },
  {
   "metadata": {},
   "cell_type": "markdown",
   "source": "## NAIVE BAYES",
   "id": "b491bbdbfb1b5d66"
  },
  {
   "metadata": {
    "ExecuteTime": {
     "end_time": "2024-06-24T07:02:11.070174Z",
     "start_time": "2024-06-24T07:02:11.066320Z"
    }
   },
   "cell_type": "code",
   "source": "",
   "id": "8748cbe0d570bd13",
   "outputs": [],
   "execution_count": 48
  }
 ],
 "metadata": {
  "kernelspec": {
   "display_name": "Python 3",
   "language": "python",
   "name": "python3"
  },
  "language_info": {
   "codemirror_mode": {
    "name": "ipython",
    "version": 2
   },
   "file_extension": ".py",
   "mimetype": "text/x-python",
   "name": "python",
   "nbconvert_exporter": "python",
   "pygments_lexer": "ipython2",
   "version": "2.7.6"
  }
 },
 "nbformat": 4,
 "nbformat_minor": 5
}
