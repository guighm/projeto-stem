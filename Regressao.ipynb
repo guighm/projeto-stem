{
 "cells": [
  {
   "metadata": {},
   "cell_type": "markdown",
   "source": "# REGRESSÃO",
   "id": "744466a2773c8f59"
  },
  {
   "metadata": {},
   "cell_type": "markdown",
   "source": "## DEVEMOS CONSTRUIR A NOSSA BASE",
   "id": "e72f96a018701209"
  },
  {
   "metadata": {},
   "cell_type": "markdown",
   "source": "## 1 - MÉTRICAS",
   "id": "d2d5393658800e10"
  },
  {
   "metadata": {},
   "cell_type": "markdown",
   "source": "## 2 - TRATAR OS DADOS",
   "id": "b62b4b27d19a1fe6"
  },
  {
   "cell_type": "code",
   "execution_count": null,
   "id": "initial_id",
   "metadata": {
    "collapsed": true
   },
   "outputs": [],
   "source": [
    ""
   ]
  }
 ],
 "metadata": {
  "kernelspec": {
   "display_name": "Python 3",
   "language": "python",
   "name": "python3"
  },
  "language_info": {
   "codemirror_mode": {
    "name": "ipython",
    "version": 2
   },
   "file_extension": ".py",
   "mimetype": "text/x-python",
   "name": "python",
   "nbconvert_exporter": "python",
   "pygments_lexer": "ipython2",
   "version": "2.7.6"
  }
 },
 "nbformat": 4,
 "nbformat_minor": 5
}
